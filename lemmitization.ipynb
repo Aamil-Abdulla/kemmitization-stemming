{
 "cells": [
  {
   "cell_type": "code",
   "execution_count": 31,
   "id": "af41c83a-c026-4205-939b-01eed8e4a153",
   "metadata": {},
   "outputs": [
    {
     "name": "stderr",
     "output_type": "stream",
     "text": [
      "[nltk_data] Downloading package punkt to\n",
      "[nltk_data]     C:\\Users\\Admin\\AppData\\Roaming\\nltk_data...\n",
      "[nltk_data]   Package punkt is already up-to-date!\n",
      "[nltk_data] Downloading package wordnet to\n",
      "[nltk_data]     C:\\Users\\Admin\\AppData\\Roaming\\nltk_data...\n",
      "[nltk_data]   Package wordnet is already up-to-date!\n",
      "[nltk_data] Downloading package stopwords to\n",
      "[nltk_data]     C:\\Users\\Admin\\AppData\\Roaming\\nltk_data...\n",
      "[nltk_data]   Package stopwords is already up-to-date!\n"
     ]
    },
    {
     "data": {
      "text/plain": [
       "True"
      ]
     },
     "execution_count": 31,
     "metadata": {},
     "output_type": "execute_result"
    }
   ],
   "source": [
    "#Stopwords, lemmitization , stemming\n",
    "import nltk\n",
    "nltk.download('punkt')\n",
    "nltk.download('wordnet')\n",
    "nltk.download('stopwords')"
   ]
  },
  {
   "cell_type": "code",
   "execution_count": 39,
   "id": "34484ed0-457a-4eeb-a0c7-c5af85772967",
   "metadata": {},
   "outputs": [],
   "source": [
    "from nltk.tokenize import word_tokenize\n",
    "from nltk.stem import WordNetLemmatizer,PorterStemmer\n",
    "from nltk.corpus import stopwords\n",
    "stemmer=PorterStemmer()"
   ]
  },
  {
   "cell_type": "code",
   "execution_count": 33,
   "id": "40cea352-1e66-4e67-b32a-c444dc3a54e3",
   "metadata": {},
   "outputs": [],
   "source": [
    "para='''\n",
    "Gandhi joined St. Stephen's College, Delhi, an affiliated college of the University of Delhi, in 1989 for his undergraduate education.[20] Gandhi's academic performance in Class XII, with a score of 61 per cent in the CBSE school certificate, was perceived as not particularly strong. He gained admission to St. Stephen's College for BA (Honors) History through the sports quota, which granted a 10 per cent advantage in exam scores to promising athletes; per National Rifle Association of India testimonials, Gandhi stood 4th in the 32nd National Shooting Competition held in New Delhi from 26 December 1988 to 5 January 1989.[21] Gandhi had finished fourth in the Centre Fire Pistol 25 M (Indian Rule) Men's civilian event with a score of 371 out of 400 points. By July 1989, Gandhi had won eight national awards. In 1991, following the assassination of Rajiv Gandhi by the LTTE during an election rally, Gandhi left St. Stephen's and moved to Harvard University. Due to security concerns, he subsequently relocated to Rollins College in Florida. He further went on to obtain an Master of Philosophy (MPhil) in Development Studies, from Trinity College, Cambridge in 1995.[22][23] Following his father and former prime minister Rajiv Gandhi's assassination in 1991, there was a heightened threat perception to the family, those closest to Gandhi were paranoid about his safety and might have forced him to take cover under the misleading surname \"Vinci\".\n",
    "'''"
   ]
  },
  {
   "cell_type": "code",
   "execution_count": 34,
   "id": "3c78cb67-a230-4ed0-88bb-576cfed81375",
   "metadata": {},
   "outputs": [],
   "source": [
    "sentences=nltk.sent_tokenize(para)"
   ]
  },
  {
   "cell_type": "code",
   "execution_count": 35,
   "id": "cbc7fbc6-875b-489b-9875-409666339372",
   "metadata": {},
   "outputs": [
    {
     "data": {
      "text/plain": [
       "[\"\\nGandhi joined St. Stephen's College, Delhi, an affiliated college of the University of Delhi, in 1989 for his undergraduate education.\",\n",
       " \"[20] Gandhi's academic performance in Class XII, with a score of 61 per cent in the CBSE school certificate, was perceived as not particularly strong.\",\n",
       " \"He gained admission to St. Stephen's College for BA (Honors) History through the sports quota, which granted a 10 per cent advantage in exam scores to promising athletes; per National Rifle Association of India testimonials, Gandhi stood 4th in the 32nd National Shooting Competition held in New Delhi from 26 December 1988 to 5 January 1989.\",\n",
       " \"[21] Gandhi had finished fourth in the Centre Fire Pistol 25 M (Indian Rule) Men's civilian event with a score of 371 out of 400 points.\",\n",
       " 'By July 1989, Gandhi had won eight national awards.',\n",
       " \"In 1991, following the assassination of Rajiv Gandhi by the LTTE during an election rally, Gandhi left St. Stephen's and moved to Harvard University.\",\n",
       " 'Due to security concerns, he subsequently relocated to Rollins College in Florida.',\n",
       " 'He further went on to obtain an Master of Philosophy (MPhil) in Development Studies, from Trinity College, Cambridge in 1995.',\n",
       " '[22][23] Following his father and former prime minister Rajiv Gandhi\\'s assassination in 1991, there was a heightened threat perception to the family, those closest to Gandhi were paranoid about his safety and might have forced him to take cover under the misleading surname \"Vinci\".']"
      ]
     },
     "execution_count": 35,
     "metadata": {},
     "output_type": "execute_result"
    }
   ],
   "source": [
    "sentences"
   ]
  },
  {
   "cell_type": "code",
   "execution_count": 36,
   "id": "379d923b-330f-4c0a-ace3-eb57033d64ff",
   "metadata": {},
   "outputs": [
    {
     "name": "stdout",
     "output_type": "stream",
     "text": [
      "para\n"
     ]
    }
   ],
   "source": [
    "lemmatized= WordNetLemmatizer()\n",
    "new=lemmatized.lemmatize(\"paras\")\n",
    "print(new)"
   ]
  },
  {
   "cell_type": "code",
   "execution_count": 37,
   "id": "d57de8bc-40e3-448a-b4ce-6bd5c03adc97",
   "metadata": {},
   "outputs": [],
   "source": [
    "import re \n",
    "corpus=[]\n",
    "for i in range(len(sentences)):\n",
    "    review=re.sub('[^a-zA-Z]',' ',sentences[i])\n",
    "    review=review.lower()\n",
    "    corpus.append(review)"
   ]
  },
  {
   "cell_type": "raw",
   "id": "37c43cf6-0968-48e7-a6f1-15c76b5797ac",
   "metadata": {},
   "source": [
    "corpus\n"
   ]
  },
  {
   "cell_type": "code",
   "execution_count": 41,
   "id": "dbec8176-8d68-4c60-9ff9-6ee7c946c086",
   "metadata": {},
   "outputs": [
    {
     "name": "stdout",
     "output_type": "stream",
     "text": [
      "gandhi\n",
      "join\n",
      "st\n",
      "stephen\n",
      "colleg\n",
      "delhi\n",
      "affili\n",
      "colleg\n",
      "univers\n",
      "delhi\n",
      "undergradu\n",
      "educ\n",
      "gandhi\n",
      "academ\n",
      "perform\n",
      "class\n",
      "xii\n",
      "score\n",
      "per\n",
      "cent\n",
      "cbse\n",
      "school\n",
      "certif\n",
      "perceiv\n",
      "particularli\n",
      "strong\n",
      "gain\n",
      "admiss\n",
      "st\n",
      "stephen\n",
      "colleg\n",
      "ba\n",
      "honor\n",
      "histori\n",
      "sport\n",
      "quota\n",
      "grant\n",
      "per\n",
      "cent\n",
      "advantag\n",
      "exam\n",
      "score\n",
      "promis\n",
      "athlet\n",
      "per\n",
      "nation\n",
      "rifl\n",
      "associ\n",
      "india\n",
      "testimoni\n",
      "gandhi\n",
      "stood\n",
      "th\n",
      "nd\n",
      "nation\n",
      "shoot\n",
      "competit\n",
      "held\n",
      "new\n",
      "delhi\n",
      "decemb\n",
      "januari\n",
      "gandhi\n",
      "finish\n",
      "fourth\n",
      "centr\n",
      "fire\n",
      "pistol\n",
      "indian\n",
      "rule\n",
      "men\n",
      "civilian\n",
      "event\n",
      "score\n",
      "point\n",
      "juli\n",
      "gandhi\n",
      "eight\n",
      "nation\n",
      "award\n",
      "follow\n",
      "assassin\n",
      "rajiv\n",
      "gandhi\n",
      "ltte\n",
      "elect\n",
      "ralli\n",
      "gandhi\n",
      "left\n",
      "st\n",
      "stephen\n",
      "move\n",
      "harvard\n",
      "univers\n",
      "due\n",
      "secur\n",
      "concern\n",
      "subsequ\n",
      "reloc\n",
      "rollin\n",
      "colleg\n",
      "florida\n",
      "went\n",
      "obtain\n",
      "master\n",
      "philosophi\n",
      "mphil\n",
      "develop\n",
      "studi\n",
      "triniti\n",
      "colleg\n",
      "cambridg\n",
      "follow\n",
      "father\n",
      "former\n",
      "prime\n",
      "minist\n",
      "rajiv\n",
      "gandhi\n",
      "assassin\n",
      "heighten\n",
      "threat\n",
      "percept\n",
      "famili\n",
      "closest\n",
      "gandhi\n",
      "paranoid\n",
      "safeti\n",
      "might\n",
      "forc\n",
      "take\n",
      "cover\n",
      "mislead\n",
      "surnam\n",
      "vinci\n"
     ]
    }
   ],
   "source": [
    "#Stemming\n",
    "for i in corpus:\n",
    "    words=nltk.word_tokenize(i)\n",
    "    for word in words:\n",
    "        if word not in set(stopwords.words('english')):\n",
    "            print(stemmer.stem(word))\n",
    "    "
   ]
  },
  {
   "cell_type": "code",
   "execution_count": 42,
   "id": "22da7e14-3dda-4414-82a4-90010226bee9",
   "metadata": {},
   "outputs": [
    {
     "name": "stdout",
     "output_type": "stream",
     "text": [
      "following\n",
      "his\n",
      "father\n",
      "and\n",
      "former\n",
      "prime\n",
      "minister\n",
      "rajiv\n",
      "gandhi\n",
      "s\n",
      "assassination\n",
      "in\n",
      "there\n",
      "wa\n",
      "a\n",
      "heightened\n",
      "threat\n",
      "perception\n",
      "to\n",
      "the\n",
      "family\n",
      "those\n",
      "closest\n",
      "to\n",
      "gandhi\n",
      "were\n",
      "paranoid\n",
      "about\n",
      "his\n",
      "safety\n",
      "and\n",
      "might\n",
      "have\n",
      "forced\n",
      "him\n",
      "to\n",
      "take\n",
      "cover\n",
      "under\n",
      "the\n",
      "misleading\n",
      "surname\n",
      "vinci\n"
     ]
    }
   ],
   "source": [
    "#lemmatization \n",
    "for word in words :\n",
    "    print(lemmatized.lemmatize(word))"
   ]
  },
  {
   "cell_type": "code",
   "execution_count": 64,
   "id": "4b0149d9-8787-416e-b184-13627e188da4",
   "metadata": {},
   "outputs": [],
   "source": [
    "#Applying stopwords lemmitize\n",
    "corpus=[]\n",
    "for i in range(len(sentences)):\n",
    "    review=re.sub('[^a-zA-Z]',' ', sentences[i])\n",
    "    review=review.lower()\n",
    "    review=review.split()\n",
    "    review=[lemmatized.lemmatize(word) for word in review if not word in set(stopwords.words('english'))]\n",
    "    review=' '.join(review)\n",
    "    corpus.append(review)\n",
    "    corpus"
   ]
  },
  {
   "cell_type": "code",
   "execution_count": 65,
   "id": "700b49e1-8501-4c81-a67a-bf735ae31251",
   "metadata": {},
   "outputs": [],
   "source": [
    "from sklearn.feature_extraction.text import CountVectorizer\n",
    "cv=CountVectorizer()\n"
   ]
  },
  {
   "cell_type": "code",
   "execution_count": 66,
   "id": "583ac26c-2280-4124-9627-4de394fc2441",
   "metadata": {},
   "outputs": [],
   "source": [
    "X=cv.fit_transform(corpus)"
   ]
  },
  {
   "cell_type": "code",
   "execution_count": 67,
   "id": "86b901d2-ce1b-48aa-8295-901082fdec4b",
   "metadata": {},
   "outputs": [
    {
     "data": {
      "text/plain": [
       "{'gandhi': 40,\n",
       " 'joined': 50,\n",
       " 'st': 89,\n",
       " 'stephen': 90,\n",
       " 'college': 17,\n",
       " 'delhi': 22,\n",
       " 'affiliated': 3,\n",
       " 'university': 102,\n",
       " 'undergraduate': 101,\n",
       " 'education': 25,\n",
       " 'academic': 0,\n",
       " 'performance': 70,\n",
       " 'class': 15,\n",
       " 'xii': 105,\n",
       " 'score': 85,\n",
       " 'per': 67,\n",
       " 'cent': 11,\n",
       " 'cbse': 10,\n",
       " 'school': 84,\n",
       " 'certificate': 13,\n",
       " 'perceived': 68,\n",
       " 'particularly': 66,\n",
       " 'strong': 92,\n",
       " 'gained': 39,\n",
       " 'admission': 1,\n",
       " 'ba': 8,\n",
       " 'honor': 46,\n",
       " 'history': 45,\n",
       " 'sport': 88,\n",
       " 'quota': 76,\n",
       " 'granted': 41,\n",
       " 'advantage': 2,\n",
       " 'exam': 29,\n",
       " 'promising': 75,\n",
       " 'athlete': 6,\n",
       " 'national': 61,\n",
       " 'rifle': 80,\n",
       " 'association': 5,\n",
       " 'india': 47,\n",
       " 'testimonial': 97,\n",
       " 'stood': 91,\n",
       " 'th': 98,\n",
       " 'nd': 62,\n",
       " 'shooting': 87,\n",
       " 'competition': 18,\n",
       " 'held': 44,\n",
       " 'new': 63,\n",
       " 'december': 21,\n",
       " 'january': 49,\n",
       " 'finished': 32,\n",
       " 'fourth': 38,\n",
       " 'centre': 12,\n",
       " 'fire': 33,\n",
       " 'pistol': 72,\n",
       " 'indian': 48,\n",
       " 'rule': 82,\n",
       " 'men': 55,\n",
       " 'civilian': 14,\n",
       " 'event': 28,\n",
       " 'point': 73,\n",
       " 'july': 51,\n",
       " 'eight': 26,\n",
       " 'award': 7,\n",
       " 'following': 35,\n",
       " 'assassination': 4,\n",
       " 'rajiv': 77,\n",
       " 'ltte': 53,\n",
       " 'election': 27,\n",
       " 'rally': 78,\n",
       " 'left': 52,\n",
       " 'moved': 59,\n",
       " 'harvard': 42,\n",
       " 'due': 24,\n",
       " 'security': 86,\n",
       " 'concern': 19,\n",
       " 'subsequently': 94,\n",
       " 'relocated': 79,\n",
       " 'rollins': 81,\n",
       " 'florida': 34,\n",
       " 'went': 104,\n",
       " 'obtain': 64,\n",
       " 'master': 54,\n",
       " 'philosophy': 71,\n",
       " 'mphil': 60,\n",
       " 'development': 23,\n",
       " 'study': 93,\n",
       " 'trinity': 100,\n",
       " 'cambridge': 9,\n",
       " 'father': 31,\n",
       " 'former': 37,\n",
       " 'prime': 74,\n",
       " 'minister': 57,\n",
       " 'heightened': 43,\n",
       " 'threat': 99,\n",
       " 'perception': 69,\n",
       " 'family': 30,\n",
       " 'closest': 16,\n",
       " 'paranoid': 65,\n",
       " 'safety': 83,\n",
       " 'might': 56,\n",
       " 'forced': 36,\n",
       " 'take': 96,\n",
       " 'cover': 20,\n",
       " 'misleading': 58,\n",
       " 'surname': 95,\n",
       " 'vinci': 103}"
      ]
     },
     "execution_count": 67,
     "metadata": {},
     "output_type": "execute_result"
    }
   ],
   "source": [
    "cv.vocabulary_"
   ]
  },
  {
   "cell_type": "code",
   "execution_count": 68,
   "id": "ecb1b209-265d-4d23-825d-7d96684e3bc9",
   "metadata": {},
   "outputs": [
    {
     "data": {
      "text/plain": [
       "'gandhi joined st stephen college delhi affiliated college university delhi undergraduate education'"
      ]
     },
     "execution_count": 68,
     "metadata": {},
     "output_type": "execute_result"
    }
   ],
   "source": [
    "corpus[0]"
   ]
  },
  {
   "cell_type": "code",
   "execution_count": 69,
   "id": "f2efcbba-a982-4daa-874b-37c8e3c99794",
   "metadata": {},
   "outputs": [
    {
     "data": {
      "text/plain": [
       "array([[0, 0, 0, 1, 0, 0, 0, 0, 0, 0, 0, 0, 0, 0, 0, 0, 0, 2, 0, 0, 0, 0,\n",
       "        2, 0, 0, 1, 0, 0, 0, 0, 0, 0, 0, 0, 0, 0, 0, 0, 0, 0, 1, 0, 0, 0,\n",
       "        0, 0, 0, 0, 0, 0, 1, 0, 0, 0, 0, 0, 0, 0, 0, 0, 0, 0, 0, 0, 0, 0,\n",
       "        0, 0, 0, 0, 0, 0, 0, 0, 0, 0, 0, 0, 0, 0, 0, 0, 0, 0, 0, 0, 0, 0,\n",
       "        0, 1, 1, 0, 0, 0, 0, 0, 0, 0, 0, 0, 0, 1, 1, 0, 0, 0]],\n",
       "      dtype=int64)"
      ]
     },
     "execution_count": 69,
     "metadata": {},
     "output_type": "execute_result"
    }
   ],
   "source": [
    "X[0].toarray()"
   ]
  },
  {
   "cell_type": "code",
   "execution_count": null,
   "id": "c0c81095-6b47-4a70-ad7a-ffb38f8e6a13",
   "metadata": {},
   "outputs": [],
   "source": []
  }
 ],
 "metadata": {
  "kernelspec": {
   "display_name": "Python 3 (ipykernel)",
   "language": "python",
   "name": "python3"
  },
  "language_info": {
   "codemirror_mode": {
    "name": "ipython",
    "version": 3
   },
   "file_extension": ".py",
   "mimetype": "text/x-python",
   "name": "python",
   "nbconvert_exporter": "python",
   "pygments_lexer": "ipython3",
   "version": "3.11.7"
  }
 },
 "nbformat": 4,
 "nbformat_minor": 5
}
